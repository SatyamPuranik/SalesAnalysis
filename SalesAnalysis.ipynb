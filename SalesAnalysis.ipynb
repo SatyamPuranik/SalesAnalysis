{
 "cells": [
  {
   "cell_type": "markdown",
   "metadata": {},
   "source": [
    "Importing Libraries"
   ]
  },
  {
   "cell_type": "code",
   "execution_count": 2,
   "metadata": {},
   "outputs": [],
   "source": [
    "import pandas as pd\n",
    "import os"
   ]
  },
  {
   "cell_type": "markdown",
   "metadata": {},
   "source": [
    "Merging 12 months of data into a single file"
   ]
  },
  {
   "cell_type": "code",
   "execution_count": 3,
   "metadata": {},
   "outputs": [],
   "source": [
    "# files = [file for file in os.listdir('./Sales_Data')]\n",
    "\n",
    "# df = pd.DataFrame()\n",
    "# for file in files:\n",
    "#   mdf = pd.read_csv('./Sales_Data/{0}'.format(file))\n",
    "#   df = pd.concat([df,mdf])\n",
    "\n",
    "# df.head()\n",
    "# df.to_csv(\"all_data.csv\",index =False)"
   ]
  },
  {
   "cell_type": "markdown",
   "metadata": {},
   "source": [
    "Reading updated dataframe"
   ]
  },
  {
   "cell_type": "code",
   "execution_count": 4,
   "metadata": {},
   "outputs": [
    {
     "data": {
      "text/html": [
       "<div>\n",
       "<style scoped>\n",
       "    .dataframe tbody tr th:only-of-type {\n",
       "        vertical-align: middle;\n",
       "    }\n",
       "\n",
       "    .dataframe tbody tr th {\n",
       "        vertical-align: top;\n",
       "    }\n",
       "\n",
       "    .dataframe thead th {\n",
       "        text-align: right;\n",
       "    }\n",
       "</style>\n",
       "<table border=\"1\" class=\"dataframe\">\n",
       "  <thead>\n",
       "    <tr style=\"text-align: right;\">\n",
       "      <th></th>\n",
       "      <th>Order ID</th>\n",
       "      <th>Product</th>\n",
       "      <th>Quantity Ordered</th>\n",
       "      <th>Price Each</th>\n",
       "      <th>Order Date</th>\n",
       "      <th>Purchase Address</th>\n",
       "    </tr>\n",
       "  </thead>\n",
       "  <tbody>\n",
       "    <tr>\n",
       "      <th>0</th>\n",
       "      <td>176558</td>\n",
       "      <td>USB-C Charging Cable</td>\n",
       "      <td>2</td>\n",
       "      <td>11.95</td>\n",
       "      <td>04/19/19 08:46</td>\n",
       "      <td>917 1st St, Dallas, TX 75001</td>\n",
       "    </tr>\n",
       "    <tr>\n",
       "      <th>1</th>\n",
       "      <td>176559</td>\n",
       "      <td>Bose SoundSport Headphones</td>\n",
       "      <td>1</td>\n",
       "      <td>99.99</td>\n",
       "      <td>04/07/19 22:30</td>\n",
       "      <td>682 Chestnut St, Boston, MA 02215</td>\n",
       "    </tr>\n",
       "    <tr>\n",
       "      <th>2</th>\n",
       "      <td>176560</td>\n",
       "      <td>Google Phone</td>\n",
       "      <td>1</td>\n",
       "      <td>600</td>\n",
       "      <td>04/12/19 14:38</td>\n",
       "      <td>669 Spruce St, Los Angeles, CA 90001</td>\n",
       "    </tr>\n",
       "    <tr>\n",
       "      <th>3</th>\n",
       "      <td>176560</td>\n",
       "      <td>Wired Headphones</td>\n",
       "      <td>1</td>\n",
       "      <td>11.99</td>\n",
       "      <td>04/12/19 14:38</td>\n",
       "      <td>669 Spruce St, Los Angeles, CA 90001</td>\n",
       "    </tr>\n",
       "    <tr>\n",
       "      <th>4</th>\n",
       "      <td>176561</td>\n",
       "      <td>Wired Headphones</td>\n",
       "      <td>1</td>\n",
       "      <td>11.99</td>\n",
       "      <td>04/30/19 09:27</td>\n",
       "      <td>333 8th St, Los Angeles, CA 90001</td>\n",
       "    </tr>\n",
       "  </tbody>\n",
       "</table>\n",
       "</div>"
      ],
      "text/plain": [
       "  Order ID                     Product Quantity Ordered Price Each  \\\n",
       "0   176558        USB-C Charging Cable                2      11.95   \n",
       "1   176559  Bose SoundSport Headphones                1      99.99   \n",
       "2   176560                Google Phone                1        600   \n",
       "3   176560            Wired Headphones                1      11.99   \n",
       "4   176561            Wired Headphones                1      11.99   \n",
       "\n",
       "       Order Date                      Purchase Address  \n",
       "0  04/19/19 08:46          917 1st St, Dallas, TX 75001  \n",
       "1  04/07/19 22:30     682 Chestnut St, Boston, MA 02215  \n",
       "2  04/12/19 14:38  669 Spruce St, Los Angeles, CA 90001  \n",
       "3  04/12/19 14:38  669 Spruce St, Los Angeles, CA 90001  \n",
       "4  04/30/19 09:27     333 8th St, Los Angeles, CA 90001  "
      ]
     },
     "execution_count": 4,
     "metadata": {},
     "output_type": "execute_result"
    }
   ],
   "source": [
    "df = pd.read_csv('all_data.csv')\n",
    "df.head()"
   ]
  },
  {
   "cell_type": "markdown",
   "metadata": {},
   "source": [
    "### Clean up the data "
   ]
  },
  {
   "cell_type": "markdown",
   "metadata": {},
   "source": [
    "Drop rows of Nan"
   ]
  },
  {
   "cell_type": "code",
   "execution_count": 5,
   "metadata": {},
   "outputs": [],
   "source": [
    "# df[df['Order Date'].isna()] # true if value is Nan, false otherwise. Boolean indexing -> isna will give an array of the same length of df.['Order Date'] having true/false\n",
    "# Print rows whose Order Date column is nan\n",
    "\n",
    "# df.isna() will check each field and then change the value to True or False\n",
    "# any will check if any value is True over the axis = 1,i.e., rows, and then will return a array of True and False\n",
    "# nandf will be generated by using boolean indexing on df\n",
    "# nandf = df[df.isna().any(axis=1)] # rows having atleat 1 Nan value\n",
    "\n",
    "df = df.dropna(how='all') #Droping rows having all Nans\n"
   ]
  },
  {
   "cell_type": "markdown",
   "metadata": {},
   "source": [
    "Find 'or' and delete it"
   ]
  },
  {
   "cell_type": "code",
   "execution_count": 6,
   "metadata": {},
   "outputs": [],
   "source": [
    "temp_df = df[df['Order Date'].str[0:2] == 'Or']\n",
    "temp_df\n",
    "\n",
    "df = df[df['Order Date'].str[0:2] != 'Or'] "
   ]
  },
  {
   "cell_type": "markdown",
   "metadata": {},
   "source": [
    "##### Augment data with additional columns"
   ]
  },
  {
   "cell_type": "markdown",
   "metadata": {},
   "source": [
    "### Adding the month column"
   ]
  },
  {
   "cell_type": "code",
   "execution_count": 7,
   "metadata": {},
   "outputs": [
    {
     "data": {
      "text/html": [
       "<div>\n",
       "<style scoped>\n",
       "    .dataframe tbody tr th:only-of-type {\n",
       "        vertical-align: middle;\n",
       "    }\n",
       "\n",
       "    .dataframe tbody tr th {\n",
       "        vertical-align: top;\n",
       "    }\n",
       "\n",
       "    .dataframe thead th {\n",
       "        text-align: right;\n",
       "    }\n",
       "</style>\n",
       "<table border=\"1\" class=\"dataframe\">\n",
       "  <thead>\n",
       "    <tr style=\"text-align: right;\">\n",
       "      <th></th>\n",
       "      <th>Order ID</th>\n",
       "      <th>Product</th>\n",
       "      <th>Quantity Ordered</th>\n",
       "      <th>Price Each</th>\n",
       "      <th>Order Date</th>\n",
       "      <th>Purchase Address</th>\n",
       "      <th>Month</th>\n",
       "    </tr>\n",
       "  </thead>\n",
       "  <tbody>\n",
       "    <tr>\n",
       "      <th>0</th>\n",
       "      <td>176558</td>\n",
       "      <td>USB-C Charging Cable</td>\n",
       "      <td>2</td>\n",
       "      <td>11.95</td>\n",
       "      <td>04/19/19 08:46</td>\n",
       "      <td>917 1st St, Dallas, TX 75001</td>\n",
       "      <td>4</td>\n",
       "    </tr>\n",
       "    <tr>\n",
       "      <th>1</th>\n",
       "      <td>176559</td>\n",
       "      <td>Bose SoundSport Headphones</td>\n",
       "      <td>1</td>\n",
       "      <td>99.99</td>\n",
       "      <td>04/07/19 22:30</td>\n",
       "      <td>682 Chestnut St, Boston, MA 02215</td>\n",
       "      <td>4</td>\n",
       "    </tr>\n",
       "    <tr>\n",
       "      <th>2</th>\n",
       "      <td>176560</td>\n",
       "      <td>Google Phone</td>\n",
       "      <td>1</td>\n",
       "      <td>600</td>\n",
       "      <td>04/12/19 14:38</td>\n",
       "      <td>669 Spruce St, Los Angeles, CA 90001</td>\n",
       "      <td>4</td>\n",
       "    </tr>\n",
       "    <tr>\n",
       "      <th>3</th>\n",
       "      <td>176560</td>\n",
       "      <td>Wired Headphones</td>\n",
       "      <td>1</td>\n",
       "      <td>11.99</td>\n",
       "      <td>04/12/19 14:38</td>\n",
       "      <td>669 Spruce St, Los Angeles, CA 90001</td>\n",
       "      <td>4</td>\n",
       "    </tr>\n",
       "    <tr>\n",
       "      <th>4</th>\n",
       "      <td>176561</td>\n",
       "      <td>Wired Headphones</td>\n",
       "      <td>1</td>\n",
       "      <td>11.99</td>\n",
       "      <td>04/30/19 09:27</td>\n",
       "      <td>333 8th St, Los Angeles, CA 90001</td>\n",
       "      <td>4</td>\n",
       "    </tr>\n",
       "  </tbody>\n",
       "</table>\n",
       "</div>"
      ],
      "text/plain": [
       "  Order ID                     Product Quantity Ordered Price Each  \\\n",
       "0   176558        USB-C Charging Cable                2      11.95   \n",
       "1   176559  Bose SoundSport Headphones                1      99.99   \n",
       "2   176560                Google Phone                1        600   \n",
       "3   176560            Wired Headphones                1      11.99   \n",
       "4   176561            Wired Headphones                1      11.99   \n",
       "\n",
       "       Order Date                      Purchase Address  Month  \n",
       "0  04/19/19 08:46          917 1st St, Dallas, TX 75001      4  \n",
       "1  04/07/19 22:30     682 Chestnut St, Boston, MA 02215      4  \n",
       "2  04/12/19 14:38  669 Spruce St, Los Angeles, CA 90001      4  \n",
       "3  04/12/19 14:38  669 Spruce St, Los Angeles, CA 90001      4  \n",
       "4  04/30/19 09:27     333 8th St, Los Angeles, CA 90001      4  "
      ]
     },
     "execution_count": 7,
     "metadata": {},
     "output_type": "execute_result"
    }
   ],
   "source": [
    "df['Month'] = df['Order Date'].str[0:2]\n",
    "df.Month = df.Month.astype('int16')\n",
    "df.head()"
   ]
  },
  {
   "cell_type": "markdown",
   "metadata": {},
   "source": [
    "### Add a sales column"
   ]
  },
  {
   "cell_type": "code",
   "execution_count": 8,
   "metadata": {},
   "outputs": [
    {
     "data": {
      "text/html": [
       "<div>\n",
       "<style scoped>\n",
       "    .dataframe tbody tr th:only-of-type {\n",
       "        vertical-align: middle;\n",
       "    }\n",
       "\n",
       "    .dataframe tbody tr th {\n",
       "        vertical-align: top;\n",
       "    }\n",
       "\n",
       "    .dataframe thead th {\n",
       "        text-align: right;\n",
       "    }\n",
       "</style>\n",
       "<table border=\"1\" class=\"dataframe\">\n",
       "  <thead>\n",
       "    <tr style=\"text-align: right;\">\n",
       "      <th></th>\n",
       "      <th>Order ID</th>\n",
       "      <th>Product</th>\n",
       "      <th>Sales</th>\n",
       "      <th>Quantity Ordered</th>\n",
       "      <th>Price Each</th>\n",
       "      <th>Order Date</th>\n",
       "      <th>Purchase Address</th>\n",
       "      <th>Month</th>\n",
       "    </tr>\n",
       "  </thead>\n",
       "  <tbody>\n",
       "    <tr>\n",
       "      <th>0</th>\n",
       "      <td>176558</td>\n",
       "      <td>USB-C Charging Cable</td>\n",
       "      <td>23.90</td>\n",
       "      <td>2</td>\n",
       "      <td>11.95</td>\n",
       "      <td>04/19/19 08:46</td>\n",
       "      <td>917 1st St, Dallas, TX 75001</td>\n",
       "      <td>4</td>\n",
       "    </tr>\n",
       "    <tr>\n",
       "      <th>1</th>\n",
       "      <td>176559</td>\n",
       "      <td>Bose SoundSport Headphones</td>\n",
       "      <td>99.99</td>\n",
       "      <td>1</td>\n",
       "      <td>99.99</td>\n",
       "      <td>04/07/19 22:30</td>\n",
       "      <td>682 Chestnut St, Boston, MA 02215</td>\n",
       "      <td>4</td>\n",
       "    </tr>\n",
       "    <tr>\n",
       "      <th>2</th>\n",
       "      <td>176560</td>\n",
       "      <td>Google Phone</td>\n",
       "      <td>600.00</td>\n",
       "      <td>1</td>\n",
       "      <td>600.00</td>\n",
       "      <td>04/12/19 14:38</td>\n",
       "      <td>669 Spruce St, Los Angeles, CA 90001</td>\n",
       "      <td>4</td>\n",
       "    </tr>\n",
       "    <tr>\n",
       "      <th>3</th>\n",
       "      <td>176560</td>\n",
       "      <td>Wired Headphones</td>\n",
       "      <td>11.99</td>\n",
       "      <td>1</td>\n",
       "      <td>11.99</td>\n",
       "      <td>04/12/19 14:38</td>\n",
       "      <td>669 Spruce St, Los Angeles, CA 90001</td>\n",
       "      <td>4</td>\n",
       "    </tr>\n",
       "    <tr>\n",
       "      <th>4</th>\n",
       "      <td>176561</td>\n",
       "      <td>Wired Headphones</td>\n",
       "      <td>11.99</td>\n",
       "      <td>1</td>\n",
       "      <td>11.99</td>\n",
       "      <td>04/30/19 09:27</td>\n",
       "      <td>333 8th St, Los Angeles, CA 90001</td>\n",
       "      <td>4</td>\n",
       "    </tr>\n",
       "  </tbody>\n",
       "</table>\n",
       "</div>"
      ],
      "text/plain": [
       "  Order ID                     Product   Sales  Quantity Ordered  Price Each  \\\n",
       "0   176558        USB-C Charging Cable   23.90                 2       11.95   \n",
       "1   176559  Bose SoundSport Headphones   99.99                 1       99.99   \n",
       "2   176560                Google Phone  600.00                 1      600.00   \n",
       "3   176560            Wired Headphones   11.99                 1       11.99   \n",
       "4   176561            Wired Headphones   11.99                 1       11.99   \n",
       "\n",
       "       Order Date                      Purchase Address  Month  \n",
       "0  04/19/19 08:46          917 1st St, Dallas, TX 75001      4  \n",
       "1  04/07/19 22:30     682 Chestnut St, Boston, MA 02215      4  \n",
       "2  04/12/19 14:38  669 Spruce St, Los Angeles, CA 90001      4  \n",
       "3  04/12/19 14:38  669 Spruce St, Los Angeles, CA 90001      4  \n",
       "4  04/30/19 09:27     333 8th St, Los Angeles, CA 90001      4  "
      ]
     },
     "execution_count": 8,
     "metadata": {},
     "output_type": "execute_result"
    }
   ],
   "source": [
    "# df['Quantity Ordered']=df['Quantity Ordered'].astype('int16') \n",
    "df['Quantity Ordered']=pd.to_numeric(df['Quantity Ordered']) #we don't have to specify the type, correct type will be choosen automaitcally \n",
    "# df['Price Each']=df['Price Each'].astype('float16')\n",
    "df['Price Each']=pd.to_numeric(df['Price Each'])\n",
    "\n",
    "df['Sales'] = df['Quantity Ordered'] * df['Price Each']\n",
    "\n",
    "lst=list(df.columns)\n",
    "lst = lst[0:2]+[lst[-1]]+lst[2:-1]\n",
    "df = df[lst]\n",
    "\n",
    "df.head()"
   ]
  },
  {
   "cell_type": "markdown",
   "metadata": {},
   "source": [
    "### Add city column\n"
   ]
  },
  {
   "cell_type": "code",
   "execution_count": 9,
   "metadata": {},
   "outputs": [
    {
     "data": {
      "text/plain": [
       "0                 Dallas TX\n",
       "1                 Boston MA\n",
       "2            Los Angeles CA\n",
       "3            Los Angeles CA\n",
       "4            Los Angeles CA\n",
       "                ...        \n",
       "186844       Los Angeles CA\n",
       "186845     San Francisco CA\n",
       "186846     San Francisco CA\n",
       "186847     San Francisco CA\n",
       "186848     San Francisco CA\n",
       "Name: City, Length: 185950, dtype: object"
      ]
     },
     "execution_count": 9,
     "metadata": {},
     "output_type": "execute_result"
    }
   ],
   "source": [
    "def getCity(x:str) -> str:\n",
    "  return x.split(',')[1] + x.split(',')[2][:3]\n",
    "\n",
    "# df['City'] = df['Purchase Address'].apply(lambda x: x.split(',')[1])\n",
    "df['City'] = df['Purchase Address'].apply(getCity)\n",
    "\n",
    "df['City']"
   ]
  },
  {
   "cell_type": "markdown",
   "metadata": {},
   "source": [
    "### What was the best month for sale? How much was earned that month?\n"
   ]
  },
  {
   "cell_type": "code",
   "execution_count": 10,
   "metadata": {},
   "outputs": [],
   "source": [
    "results = df.groupby('Month').sum()"
   ]
  },
  {
   "cell_type": "code",
   "execution_count": 11,
   "metadata": {},
   "outputs": [
    {
     "data": {
      "image/png": "[encoded data removed]",
      "text/plain": [
       "<Figure size 432x288 with 1 Axes>"
      ]
     },
     "metadata": {
      "needs_background": "light"
     },
     "output_type": "display_data"
    }
   ],
   "source": [
    "import matplotlib.pyplot as plt\n",
    "\n",
    "months = range(1,13)\n",
    "\n",
    "plt.bar(months,results.Sales)\n",
    "plt.xticks(months)\n",
    "plt.ylabel('Sales 10^6')\n",
    "plt.xlabel('month')\n",
    "plt.show()"
   ]
  },
  {
   "cell_type": "markdown",
   "metadata": {},
   "source": [
    "#### Which city had the highest number of sales ?"
   ]
  },
  {
   "cell_type": "code",
   "execution_count": 12,
   "metadata": {},
   "outputs": [
    {
     "data": {
      "text/html": [
       "<div>\n",
       "<style scoped>\n",
       "    .dataframe tbody tr th:only-of-type {\n",
       "        vertical-align: middle;\n",
       "    }\n",
       "\n",
       "    .dataframe tbody tr th {\n",
       "        vertical-align: top;\n",
       "    }\n",
       "\n",
       "    .dataframe thead th {\n",
       "        text-align: right;\n",
       "    }\n",
       "</style>\n",
       "<table border=\"1\" class=\"dataframe\">\n",
       "  <thead>\n",
       "    <tr style=\"text-align: right;\">\n",
       "      <th></th>\n",
       "      <th>Sales</th>\n",
       "      <th>Quantity Ordered</th>\n",
       "      <th>Price Each</th>\n",
       "      <th>Month</th>\n",
       "    </tr>\n",
       "    <tr>\n",
       "      <th>City</th>\n",
       "      <th></th>\n",
       "      <th></th>\n",
       "      <th></th>\n",
       "      <th></th>\n",
       "    </tr>\n",
       "  </thead>\n",
       "  <tbody>\n",
       "    <tr>\n",
       "      <th>Atlanta GA</th>\n",
       "      <td>2795498.58</td>\n",
       "      <td>16602</td>\n",
       "      <td>2779908.20</td>\n",
       "      <td>104794.0</td>\n",
       "    </tr>\n",
       "    <tr>\n",
       "      <th>Austin TX</th>\n",
       "      <td>1819581.75</td>\n",
       "      <td>11153</td>\n",
       "      <td>1809873.61</td>\n",
       "      <td>69829.0</td>\n",
       "    </tr>\n",
       "    <tr>\n",
       "      <th>Boston MA</th>\n",
       "      <td>3661642.01</td>\n",
       "      <td>22528</td>\n",
       "      <td>3637409.77</td>\n",
       "      <td>141112.0</td>\n",
       "    </tr>\n",
       "    <tr>\n",
       "      <th>Dallas TX</th>\n",
       "      <td>2767975.40</td>\n",
       "      <td>16730</td>\n",
       "      <td>2752627.82</td>\n",
       "      <td>104620.0</td>\n",
       "    </tr>\n",
       "    <tr>\n",
       "      <th>Los Angeles CA</th>\n",
       "      <td>5452570.80</td>\n",
       "      <td>33289</td>\n",
       "      <td>5421435.23</td>\n",
       "      <td>208325.0</td>\n",
       "    </tr>\n",
       "    <tr>\n",
       "      <th>New York City NY</th>\n",
       "      <td>4664317.43</td>\n",
       "      <td>27932</td>\n",
       "      <td>4635370.83</td>\n",
       "      <td>175741.0</td>\n",
       "    </tr>\n",
       "    <tr>\n",
       "      <th>Portland ME</th>\n",
       "      <td>449758.27</td>\n",
       "      <td>2750</td>\n",
       "      <td>447189.25</td>\n",
       "      <td>17144.0</td>\n",
       "    </tr>\n",
       "    <tr>\n",
       "      <th>Portland OR</th>\n",
       "      <td>1870732.34</td>\n",
       "      <td>11303</td>\n",
       "      <td>1860558.22</td>\n",
       "      <td>70621.0</td>\n",
       "    </tr>\n",
       "    <tr>\n",
       "      <th>San Francisco CA</th>\n",
       "      <td>8262203.91</td>\n",
       "      <td>50239</td>\n",
       "      <td>8211461.74</td>\n",
       "      <td>315520.0</td>\n",
       "    </tr>\n",
       "    <tr>\n",
       "      <th>Seattle WA</th>\n",
       "      <td>2747755.48</td>\n",
       "      <td>16553</td>\n",
       "      <td>2733296.01</td>\n",
       "      <td>104941.0</td>\n",
       "    </tr>\n",
       "  </tbody>\n",
       "</table>\n",
       "</div>"
      ],
      "text/plain": [
       "                        Sales  Quantity Ordered  Price Each     Month\n",
       "City                                                                 \n",
       " Atlanta GA        2795498.58             16602  2779908.20  104794.0\n",
       " Austin TX         1819581.75             11153  1809873.61   69829.0\n",
       " Boston MA         3661642.01             22528  3637409.77  141112.0\n",
       " Dallas TX         2767975.40             16730  2752627.82  104620.0\n",
       " Los Angeles CA    5452570.80             33289  5421435.23  208325.0\n",
       " New York City NY  4664317.43             27932  4635370.83  175741.0\n",
       " Portland ME        449758.27              2750   447189.25   17144.0\n",
       " Portland OR       1870732.34             11303  1860558.22   70621.0\n",
       " San Francisco CA  8262203.91             50239  8211461.74  315520.0\n",
       " Seattle WA        2747755.48             16553  2733296.01  104941.0"
      ]
     },
     "execution_count": 12,
     "metadata": {},
     "output_type": "execute_result"
    }
   ],
   "source": [
    "results = df.groupby('City').sum()\n",
    "results"
   ]
  },
  {
   "cell_type": "code",
   "execution_count": 13,
   "metadata": {},
   "outputs": [
    {
     "data": {
      "image/png": "[encoded data removed]",
      "text/plain": [
       "<Figure size 432x288 with 1 Axes>"
      ]
     },
     "metadata": {
      "needs_background": "light"
     },
     "output_type": "display_data"
    }
   ],
   "source": [
    "cities = df.City.unique()\n",
    "cities = list(cities)\n",
    "cities.sort()\n",
    "# in results cities are in aplabetical order, so there sales are in that order\n",
    "# so while plotting we have to arrange x & y ticks in the same manner, arranging x is easier \n",
    "\n",
    "plt.bar(cities,results.Sales)\n",
    "plt.xticks(cities,rotation = 'vertical',size=8) #rotation and size are optional parameters\n",
    "plt.ylabel('Sale 10^6')\n",
    "plt.xlabel('city')\n",
    "plt.show()"
   ]
  },
  {
   "cell_type": "markdown",
   "metadata": {},
   "source": [
    "### What time should we display advertisements to maximize likelihood of customer's buying product?"
   ]
  },
  {
   "cell_type": "code",
   "execution_count": 14,
   "metadata": {},
   "outputs": [
    {
     "data": {
      "text/html": [
       "<div>\n",
       "<style scoped>\n",
       "    .dataframe tbody tr th:only-of-type {\n",
       "        vertical-align: middle;\n",
       "    }\n",
       "\n",
       "    .dataframe tbody tr th {\n",
       "        vertical-align: top;\n",
       "    }\n",
       "\n",
       "    .dataframe thead th {\n",
       "        text-align: right;\n",
       "    }\n",
       "</style>\n",
       "<table border=\"1\" class=\"dataframe\">\n",
       "  <thead>\n",
       "    <tr style=\"text-align: right;\">\n",
       "      <th></th>\n",
       "      <th>Order ID</th>\n",
       "      <th>Product</th>\n",
       "      <th>Sales</th>\n",
       "      <th>Quantity Ordered</th>\n",
       "      <th>Price Each</th>\n",
       "      <th>Order Date</th>\n",
       "      <th>Purchase Address</th>\n",
       "      <th>Month</th>\n",
       "      <th>City</th>\n",
       "      <th>Hour</th>\n",
       "      <th>Minute</th>\n",
       "    </tr>\n",
       "  </thead>\n",
       "  <tbody>\n",
       "    <tr>\n",
       "      <th>0</th>\n",
       "      <td>176558</td>\n",
       "      <td>USB-C Charging Cable</td>\n",
       "      <td>23.90</td>\n",
       "      <td>2</td>\n",
       "      <td>11.95</td>\n",
       "      <td>2019-04-19 08:46:00</td>\n",
       "      <td>917 1st St, Dallas, TX 75001</td>\n",
       "      <td>4</td>\n",
       "      <td>Dallas TX</td>\n",
       "      <td>8</td>\n",
       "      <td>46</td>\n",
       "    </tr>\n",
       "    <tr>\n",
       "      <th>1</th>\n",
       "      <td>176559</td>\n",
       "      <td>Bose SoundSport Headphones</td>\n",
       "      <td>99.99</td>\n",
       "      <td>1</td>\n",
       "      <td>99.99</td>\n",
       "      <td>2019-04-07 22:30:00</td>\n",
       "      <td>682 Chestnut St, Boston, MA 02215</td>\n",
       "      <td>4</td>\n",
       "      <td>Boston MA</td>\n",
       "      <td>22</td>\n",
       "      <td>30</td>\n",
       "    </tr>\n",
       "    <tr>\n",
       "      <th>2</th>\n",
       "      <td>176560</td>\n",
       "      <td>Google Phone</td>\n",
       "      <td>600.00</td>\n",
       "      <td>1</td>\n",
       "      <td>600.00</td>\n",
       "      <td>2019-04-12 14:38:00</td>\n",
       "      <td>669 Spruce St, Los Angeles, CA 90001</td>\n",
       "      <td>4</td>\n",
       "      <td>Los Angeles CA</td>\n",
       "      <td>14</td>\n",
       "      <td>38</td>\n",
       "    </tr>\n",
       "    <tr>\n",
       "      <th>3</th>\n",
       "      <td>176560</td>\n",
       "      <td>Wired Headphones</td>\n",
       "      <td>11.99</td>\n",
       "      <td>1</td>\n",
       "      <td>11.99</td>\n",
       "      <td>2019-04-12 14:38:00</td>\n",
       "      <td>669 Spruce St, Los Angeles, CA 90001</td>\n",
       "      <td>4</td>\n",
       "      <td>Los Angeles CA</td>\n",
       "      <td>14</td>\n",
       "      <td>38</td>\n",
       "    </tr>\n",
       "    <tr>\n",
       "      <th>4</th>\n",
       "      <td>176561</td>\n",
       "      <td>Wired Headphones</td>\n",
       "      <td>11.99</td>\n",
       "      <td>1</td>\n",
       "      <td>11.99</td>\n",
       "      <td>2019-04-30 09:27:00</td>\n",
       "      <td>333 8th St, Los Angeles, CA 90001</td>\n",
       "      <td>4</td>\n",
       "      <td>Los Angeles CA</td>\n",
       "      <td>9</td>\n",
       "      <td>27</td>\n",
       "    </tr>\n",
       "  </tbody>\n",
       "</table>\n",
       "</div>"
      ],
      "text/plain": [
       "  Order ID                     Product   Sales  Quantity Ordered  Price Each  \\\n",
       "0   176558        USB-C Charging Cable   23.90                 2       11.95   \n",
       "1   176559  Bose SoundSport Headphones   99.99                 1       99.99   \n",
       "2   176560                Google Phone  600.00                 1      600.00   \n",
       "3   176560            Wired Headphones   11.99                 1       11.99   \n",
       "4   176561            Wired Headphones   11.99                 1       11.99   \n",
       "\n",
       "           Order Date                      Purchase Address  Month  \\\n",
       "0 2019-04-19 08:46:00          917 1st St, Dallas, TX 75001      4   \n",
       "1 2019-04-07 22:30:00     682 Chestnut St, Boston, MA 02215      4   \n",
       "2 2019-04-12 14:38:00  669 Spruce St, Los Angeles, CA 90001      4   \n",
       "3 2019-04-12 14:38:00  669 Spruce St, Los Angeles, CA 90001      4   \n",
       "4 2019-04-30 09:27:00     333 8th St, Los Angeles, CA 90001      4   \n",
       "\n",
       "              City  Hour  Minute  \n",
       "0        Dallas TX     8      46  \n",
       "1        Boston MA    22      30  \n",
       "2   Los Angeles CA    14      38  \n",
       "3   Los Angeles CA    14      38  \n",
       "4   Los Angeles CA     9      27  "
      ]
     },
     "execution_count": 14,
     "metadata": {},
     "output_type": "execute_result"
    }
   ],
   "source": [
    "df['Order Date']= pd.to_datetime(df['Order Date'])\n",
    "df.head()\n",
    "\n",
    "df['Hour'] = df['Order Date'].dt.hour\n",
    "df['Minute'] = df['Order Date'].dt.minute\n",
    "df.head()"
   ]
  },
  {
   "cell_type": "code",
   "execution_count": 15,
   "metadata": {},
   "outputs": [
    {
     "data": {
      "image/png": "[encoded data removed]",
      "text/plain": [
       "<Figure size 432x288 with 1 Axes>"
      ]
     },
     "metadata": {
      "needs_background": "light"
     },
     "output_type": "display_data"
    }
   ],
   "source": [
    "hours = range(0,24)\n",
    "results = df.groupby('Hour').count() # Number of occurrence of orders for that hour\n",
    "results\n",
    "\n",
    "plt.plot(hours,results['Order ID'])\n",
    "plt.xticks(hours)\n",
    "plt.grid()\n",
    "plt.xlabel('Hour')\n",
    "plt.ylabel('Number of hours')\n",
    "plt.show()"
   ]
  },
  {
   "cell_type": "markdown",
   "metadata": {},
   "source": [
    "### Which products are most often sold together"
   ]
  },
  {
   "cell_type": "code",
   "execution_count": 30,
   "metadata": {},
   "outputs": [
    {
     "name": "stderr",
     "output_type": "stream",
     "text": [
      "C:\\Users\\DELL\\AppData\\Local\\Temp/ipykernel_12932/3879726786.py:4: SettingWithCopyWarning: \n",
      "A value is trying to be set on a copy of a slice from a DataFrame.\n",
      "Try using .loc[row_indexer,col_indexer] = value instead\n",
      "\n",
      "See the caveats in the documentation: https://pandas.pydata.org/pandas-docs/stable/user_guide/indexing.html#returning-a-view-versus-a-copy\n",
      "  ndf['Grouped'] = ndf.groupby('Order ID')['Product'].transform(lambda x:','.join(x))\n"
     ]
    },
    {
     "data": {
      "text/plain": [
       "iPhone,Lightning Charging Cable                  882\n",
       "Google Phone,USB-C Charging Cable                856\n",
       "iPhone,Wired Headphones                          361\n",
       "Vareebadd Phone,USB-C Charging Cable             312\n",
       "Google Phone,Wired Headphones                    303\n",
       "                                                ... \n",
       "iPhone,AAA Batteries (4-pack)                     13\n",
       "AA Batteries (4-pack),Flatscreen TV               13\n",
       "34in Ultrawide Monitor,AAA Batteries (4-pack)     12\n",
       "27in 4K Gaming Monitor,USB-C Charging Cable       12\n",
       "USB-C Charging Cable,Google Phone                 12\n",
       "Name: Grouped, Length: 100, dtype: int64"
      ]
     },
     "execution_count": 30,
     "metadata": {},
     "output_type": "execute_result"
    }
   ],
   "source": [
    "# Products are same then their Order ID's are same\n",
    "ndf = df[df['Order ID'].duplicated(keep=False)] # keep all rows having duplicate order id\n",
    "\n",
    "ndf['Grouped'] = ndf.groupby('Order ID')['Product'].transform(lambda x:','.join(x))\n",
    "ndf.head()\n",
    "\n",
    "ndf = ndf[['Order ID','Grouped']].drop_duplicates() # Keep only first copy of those rows for which the value of Order ID and Grouped columns match \n",
    "ndf"
   ]
  },
  {
   "cell_type": "code",
   "execution_count": 40,
   "metadata": {},
   "outputs": [
    {
     "data": {
      "image/png": "[encoded data removed]",
      "text/plain": [
       "<Figure size 432x288 with 1 Axes>"
      ]
     },
     "metadata": {
      "needs_background": "light"
     },
     "output_type": "display_data"
    }
   ],
   "source": [
    "# No of times a pair is repeated in Grouped col, getting top 100 repeated pairs\n",
    "# ndf.Grouped.value_counts()[0:100]\n",
    "\n",
    "ndf.Grouped.value_counts()[0:20].plot(kind='bar',title = 'Products commonly bought in pair',yticks = [n*100 for n in range(0,9)],ylabel = 'Frequency',xlabel = 'Products')\n",
    "plt.show()"
   ]
  }
 ],
 "metadata": {
  "interpreter": {
   "hash": "33dc6d49505b4536b6a128d9d7c879e1fa44477ad44947bbbe73093067fe6393"
  },
  "kernelspec": {
   "display_name": "Python 3.9.5 64-bit",
   "language": "python",
   "name": "python3"
  },
  "language_info": {
   "codemirror_mode": {
    "name": "ipython",
    "version": 3
   },
   "file_extension": ".py",
   "mimetype": "text/x-python",
   "name": "python",
   "nbconvert_exporter": "python",
   "pygments_lexer": "ipython3",
   "version": "3.9.5"
  },
  "orig_nbformat": 4
 },
 "nbformat": 4,
 "nbformat_minor": 2
}
